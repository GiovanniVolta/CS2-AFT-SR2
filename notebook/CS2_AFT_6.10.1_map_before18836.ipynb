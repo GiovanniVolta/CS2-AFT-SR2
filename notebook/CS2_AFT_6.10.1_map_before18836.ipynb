{
 "cells": [
  {
   "cell_type": "code",
   "execution_count": 1,
   "metadata": {
    "collapsed": false
   },
   "outputs": [
    {
     "name": "stdout",
     "output_type": "stream",
     "text": [
      "Initialization done, Notebook was last run on: 07/05/2019\n"
     ]
    }
   ],
   "source": [
    "%run '/home/gvolta/Desktop/Function/Useful/Def.ipynb'\n",
    "%matplotlib inline"
   ]
  },
  {
   "cell_type": "code",
   "execution_count": 21,
   "metadata": {
    "collapsed": false
   },
   "outputs": [
    {
     "name": "stdout",
     "output_type": "stream",
     "text": [
      "{'run_max': 6385, 'correction': 'XENON1T_s2_xy_ly_SR0_24Feb2017.json', 'run_min': 0}\n",
      "{'run_max': 16639, 'correction': 'XENON1T_s2_xy_ly_SR1_v2.2.json', 'run_min': 6386}\n",
      "{'correction': 'XENON1T_s2_xy_ly_SR2_v1.2.json', 'run_min': 18836}\n",
      "{'run_max': 18835, 'correction': '/project2/lgrandi/zhut/LCE_JSONs/XENON1T_s2_xy_ly_SR2_v1.2_pre_18836.json', 'run_min': 16640}\n"
     ]
    }
   ],
   "source": [
    "import lax \n",
    "from lax.lichens import sciencerun1\n",
    "from lax.lichens import sciencerun0\n",
    "\n",
    "from pax import units, configuration\n",
    "pax_config = configuration.load_configuration('XENON1T')['DEFAULT']\n",
    "tpc_height = pax_config['tpc_length']\n",
    "tpc_radius = pax_config['tpc_radius']\n",
    "\n",
    "import hax\n",
    "hax.init(experiment='XENON1T',\n",
    "         pax_version_policy = 'v6.10.1',\n",
    "         main_data_paths= ['/dali/lgrandi/xenon1t/processed/pax_v6.10.1'], \n",
    "         minitree_paths = ['/dali/lgrandi/giovo/minitrees/pax_v6.10.1',\n",
    "                           '/dali/lgrandi/xenon1t/minitrees/pax_v6.10.1'],\n",
    "         make_minitrees = False)\n",
    "hax.config['corrections_definitions']['s2_xy_map'].append({'correction': '/project2/lgrandi/zhut/LCE_JSONs/XENON1T_s2_xy_ly_SR2_v1.2_pre_18836.json', \n",
    "                                                           'run_min': 16640,\n",
    "                                                           'run_max': 18835})\n",
    "hax.config['corrections_definitions']['s2_xy_map'][1]['run_max'] = 16639\n",
    "hax.config['corrections_definitions']['s2_xy_map'][2]['run_min'] = 18836\n",
    "\n",
    "for entry in hax.config['corrections_definitions']['s2_xy_map']:\n",
    "    print(entry)\n"
   ]
  },
  {
   "cell_type": "markdown",
   "metadata": {},
   "source": [
    "# Reading of data"
   ]
  },
  {
   "cell_type": "code",
   "execution_count": 4,
   "metadata": {
    "collapsed": false
   },
   "outputs": [],
   "source": [
    "DataNG1 = pd.read_pickle('/dali/lgrandi/giovo/minitrees/pax_v6.10.1/SR2_NG1_DAQandFlash_z10_pax6.10.1.pkl')\n",
    "DataNG2 = pd.read_pickle('/dali/lgrandi/giovo/minitrees/pax_v6.10.1/SR2_NG2_DAQandFlash_z10_pax6.10.1.pkl')\n",
    "DataNG3 = pd.read_pickle('/dali/lgrandi/giovo/minitrees/pax_v6.10.1/SR2_NG3_DAQandFlash_z10_pax6.10.1.pkl')\n",
    "DataNG4 = pd.read_pickle('/dali/lgrandi/giovo/minitrees/pax_v6.10.1/SR2_NG4_DAQandFlash_z10_pax6.10.1.pkl')"
   ]
  },
  {
   "cell_type": "markdown",
   "metadata": {},
   "source": [
    "## DAQVeto, Flash, Radius and Height¶"
   ]
  },
  {
   "cell_type": "code",
   "execution_count": 5,
   "metadata": {
    "collapsed": false
   },
   "outputs": [
    {
     "name": "stdout",
     "output_type": "stream",
     "text": [
      "Unnamed selection: 2660467 rows removed (54.52% passed)\n"
     ]
    },
    {
     "name": "stderr",
     "output_type": "stream",
     "text": [
      "/project/lgrandi/anaconda3/envs/pax_head/lib/python3.4/site-packages/hax-2.5.0-py3.4.egg/hax/cuts.py:130: UserWarning: Pandas doesn't allow columns to be created via a new attribute name - see https://pandas.pydata.org/pandas-docs/stable/indexing.html#attribute-access\n",
      "  d.cut_history = prev_cuts + [passthrough_dict]\n"
     ]
    },
    {
     "name": "stdout",
     "output_type": "stream",
     "text": [
      "Unnamed selection: 1195591 rows removed (62.51% passed)\n"
     ]
    }
   ],
   "source": [
    "#DataNG1 = hax.cuts.selection(DataNG1, DataNG1['CutDAQVeto'] == True)\n",
    "#DataNG1 = hax.cuts.selection(DataNG1, DataNG1['CutFlash'] == True)\n",
    "DataNG1 = hax.cuts.selection(DataNG1, DataNG1['Cut_r_3d_nn_tf'] == True)\n",
    "DataNG1 = hax.cuts.selection(DataNG1, DataNG1['Cut_z_3d_nn_tf'] == True)"
   ]
  },
  {
   "cell_type": "code",
   "execution_count": 6,
   "metadata": {
    "collapsed": false
   },
   "outputs": [
    {
     "name": "stdout",
     "output_type": "stream",
     "text": [
      "Unnamed selection: 1749597 rows removed (55.24% passed)\n"
     ]
    },
    {
     "name": "stderr",
     "output_type": "stream",
     "text": [
      "/project/lgrandi/anaconda3/envs/pax_head/lib/python3.4/site-packages/hax-2.5.0-py3.4.egg/hax/cuts.py:130: UserWarning: Pandas doesn't allow columns to be created via a new attribute name - see https://pandas.pydata.org/pandas-docs/stable/indexing.html#attribute-access\n",
      "  d.cut_history = prev_cuts + [passthrough_dict]\n"
     ]
    },
    {
     "name": "stdout",
     "output_type": "stream",
     "text": [
      "Unnamed selection: 808469 rows removed (62.55% passed)\n"
     ]
    }
   ],
   "source": [
    "#DataNG2 = hax.cuts.selection(DataNG2, DataNG2['CutDAQVeto'] == True)\n",
    "#DataNG2 = hax.cuts.selection(DataNG2, DataNG2['CutFlash'] == True)\n",
    "DataNG2 = hax.cuts.selection(DataNG2, DataNG2['Cut_r_3d_nn_tf'] == True)\n",
    "DataNG2 = hax.cuts.selection(DataNG2, DataNG2['Cut_z_3d_nn_tf'] == True)"
   ]
  },
  {
   "cell_type": "code",
   "execution_count": 7,
   "metadata": {
    "collapsed": false
   },
   "outputs": [
    {
     "name": "stdout",
     "output_type": "stream",
     "text": [
      "Unnamed selection: 1483984 rows removed (52.82% passed)\n"
     ]
    },
    {
     "name": "stderr",
     "output_type": "stream",
     "text": [
      "/project/lgrandi/anaconda3/envs/pax_head/lib/python3.4/site-packages/hax-2.5.0-py3.4.egg/hax/cuts.py:130: UserWarning: Pandas doesn't allow columns to be created via a new attribute name - see https://pandas.pydata.org/pandas-docs/stable/indexing.html#attribute-access\n",
      "  d.cut_history = prev_cuts + [passthrough_dict]\n"
     ]
    },
    {
     "name": "stdout",
     "output_type": "stream",
     "text": [
      "Unnamed selection: 555013 rows removed (66.60% passed)\n"
     ]
    }
   ],
   "source": [
    "#DataNG3 = hax.cuts.selection(DataNG3, DataNG3['CutDAQVeto'] == True)\n",
    "#DataNG3 = hax.cuts.selection(DataNG3, DataNG3['CutFlash'] == True)\n",
    "DataNG3 = hax.cuts.selection(DataNG3, DataNG3['Cut_r_3d_nn_tf'] == True)\n",
    "DataNG3 = hax.cuts.selection(DataNG3, DataNG3['Cut_z_3d_nn_tf'] == True)"
   ]
  },
  {
   "cell_type": "code",
   "execution_count": 8,
   "metadata": {
    "collapsed": false
   },
   "outputs": [
    {
     "name": "stdout",
     "output_type": "stream",
     "text": [
      "Unnamed selection: 1613833 rows removed (54.89% passed)\n"
     ]
    },
    {
     "name": "stderr",
     "output_type": "stream",
     "text": [
      "/project/lgrandi/anaconda3/envs/pax_head/lib/python3.4/site-packages/hax-2.5.0-py3.4.egg/hax/cuts.py:130: UserWarning: Pandas doesn't allow columns to be created via a new attribute name - see https://pandas.pydata.org/pandas-docs/stable/indexing.html#attribute-access\n",
      "  d.cut_history = prev_cuts + [passthrough_dict]\n"
     ]
    },
    {
     "name": "stdout",
     "output_type": "stream",
     "text": [
      "Unnamed selection: 650927 rows removed (66.85% passed)\n"
     ]
    }
   ],
   "source": [
    "#DataNG4 = hax.cuts.selection(DataNG4, DataNG4['CutDAQVeto'] == True)\n",
    "#DataNG4 = hax.cuts.selection(DataNG4, DataNG4['CutFlash'] == True)\n",
    "DataNG4 = hax.cuts.selection(DataNG4, DataNG4['Cut_r_3d_nn_tf'] == True)\n",
    "DataNG4 = hax.cuts.selection(DataNG4, DataNG4['Cut_z_3d_nn_tf'] == True)"
   ]
  },
  {
   "cell_type": "code",
   "execution_count": 9,
   "metadata": {
    "collapsed": false
   },
   "outputs": [
    {
     "name": "stdout",
     "output_type": "stream",
     "text": [
      "1993854 1350575 1106673 1312794\n"
     ]
    }
   ],
   "source": [
    "print(len(DataNG1), len(DataNG2), len(DataNG3), len(DataNG4))"
   ]
  },
  {
   "cell_type": "markdown",
   "metadata": {},
   "source": [
    "# 50 < s2_range_50p_area < 15e3"
   ]
  },
  {
   "cell_type": "code",
   "execution_count": 10,
   "metadata": {
    "collapsed": false
   },
   "outputs": [],
   "source": [
    "DataNG1['Cut_s2_range_50p_area'] = (DataNG1['s2_range_50p_area'] < 15e3) & (DataNG1['s2_range_50p_area'] > 500)\n",
    "DataNG2['Cut_s2_range_50p_area'] = (DataNG2['s2_range_50p_area'] < 15e3) & (DataNG2['s2_range_50p_area'] > 500)\n",
    "DataNG3['Cut_s2_range_50p_area'] = (DataNG3['s2_range_50p_area'] < 15e3) & (DataNG3['s2_range_50p_area'] > 500)\n",
    "DataNG4['Cut_s2_range_50p_area'] = (DataNG4['s2_range_50p_area'] < 15e3) & (DataNG4['s2_range_50p_area'] > 500)"
   ]
  },
  {
   "cell_type": "code",
   "execution_count": 11,
   "metadata": {
    "collapsed": false
   },
   "outputs": [
    {
     "name": "stdout",
     "output_type": "stream",
     "text": [
      "Unnamed selection: 40498 rows removed (97.97% passed)\n"
     ]
    },
    {
     "name": "stderr",
     "output_type": "stream",
     "text": [
      "/project/lgrandi/anaconda3/envs/pax_head/lib/python3.4/site-packages/hax-2.5.0-py3.4.egg/hax/cuts.py:130: UserWarning: Pandas doesn't allow columns to be created via a new attribute name - see https://pandas.pydata.org/pandas-docs/stable/indexing.html#attribute-access\n",
      "  d.cut_history = prev_cuts + [passthrough_dict]\n"
     ]
    }
   ],
   "source": [
    "DataNG1 = hax.cuts.selection(DataNG1, DataNG1['Cut_s2_range_50p_area'] == True)"
   ]
  },
  {
   "cell_type": "code",
   "execution_count": 12,
   "metadata": {
    "collapsed": false
   },
   "outputs": [
    {
     "name": "stdout",
     "output_type": "stream",
     "text": [
      "Unnamed selection: 22496 rows removed (98.33% passed)\n"
     ]
    },
    {
     "name": "stderr",
     "output_type": "stream",
     "text": [
      "/project/lgrandi/anaconda3/envs/pax_head/lib/python3.4/site-packages/hax-2.5.0-py3.4.egg/hax/cuts.py:130: UserWarning: Pandas doesn't allow columns to be created via a new attribute name - see https://pandas.pydata.org/pandas-docs/stable/indexing.html#attribute-access\n",
      "  d.cut_history = prev_cuts + [passthrough_dict]\n"
     ]
    }
   ],
   "source": [
    "DataNG2 = hax.cuts.selection(DataNG2, DataNG2['Cut_s2_range_50p_area'] == True)"
   ]
  },
  {
   "cell_type": "code",
   "execution_count": 13,
   "metadata": {
    "collapsed": false
   },
   "outputs": [
    {
     "name": "stdout",
     "output_type": "stream",
     "text": [
      "Unnamed selection: 21048 rows removed (98.10% passed)\n"
     ]
    },
    {
     "name": "stderr",
     "output_type": "stream",
     "text": [
      "/project/lgrandi/anaconda3/envs/pax_head/lib/python3.4/site-packages/hax-2.5.0-py3.4.egg/hax/cuts.py:130: UserWarning: Pandas doesn't allow columns to be created via a new attribute name - see https://pandas.pydata.org/pandas-docs/stable/indexing.html#attribute-access\n",
      "  d.cut_history = prev_cuts + [passthrough_dict]\n"
     ]
    }
   ],
   "source": [
    "DataNG3 = hax.cuts.selection(DataNG3, DataNG3['Cut_s2_range_50p_area'] == True)"
   ]
  },
  {
   "cell_type": "code",
   "execution_count": 14,
   "metadata": {
    "collapsed": false
   },
   "outputs": [
    {
     "name": "stdout",
     "output_type": "stream",
     "text": [
      "Unnamed selection: 17756 rows removed (98.65% passed)\n"
     ]
    },
    {
     "name": "stderr",
     "output_type": "stream",
     "text": [
      "/project/lgrandi/anaconda3/envs/pax_head/lib/python3.4/site-packages/hax-2.5.0-py3.4.egg/hax/cuts.py:130: UserWarning: Pandas doesn't allow columns to be created via a new attribute name - see https://pandas.pydata.org/pandas-docs/stable/indexing.html#attribute-access\n",
      "  d.cut_history = prev_cuts + [passthrough_dict]\n"
     ]
    }
   ],
   "source": [
    "DataNG4 = hax.cuts.selection(DataNG4, DataNG4['Cut_s2_range_50p_area'] == True)"
   ]
  },
  {
   "cell_type": "markdown",
   "metadata": {},
   "source": [
    "# S2 AFT"
   ]
  },
  {
   "cell_type": "code",
   "execution_count": 15,
   "metadata": {
    "collapsed": true
   },
   "outputs": [],
   "source": [
    "DataNG1['s2XYcorrection'] = DataNG1['s2']*DataNG1['s2_xy_correction_tot_nn_tf']\n",
    "DataNG2['s2XYcorrection'] = DataNG2['s2']*DataNG2['s2_xy_correction_tot_nn_tf']\n",
    "DataNG3['s2XYcorrection'] = DataNG3['s2']*DataNG3['s2_xy_correction_tot_nn_tf']\n",
    "DataNG4['s2XYcorrection'] = DataNG4['s2']*DataNG4['s2_xy_correction_tot_nn_tf']"
   ]
  },
  {
   "cell_type": "code",
   "execution_count": 19,
   "metadata": {
    "collapsed": false
   },
   "outputs": [
    {
     "data": {
      "text/plain": [
       "<matplotlib.text.Text at 0x7f0b9a3d3da0>"
      ]
     },
     "execution_count": 19,
     "metadata": {},
     "output_type": "execute_result"
    },
    {
     "name": "stderr",
     "output_type": "stream",
     "text": [
      "/project/lgrandi/anaconda3/envs/pax_head/lib/python3.4/site-packages/matplotlib/colors.py:927: RuntimeWarning: invalid value encountered in less_equal\n",
      "  mask |= resdat <= 0\n"
     ]
    },
    {
     "data": {
      "image/png": "[encoded data removed]",
      "text/plain": [
       "<matplotlib.figure.Figure at 0x7f0b9a404e10>"
      ]
     },
     "metadata": {},
     "output_type": "display_data"
    }
   ],
   "source": [
    "fig = plt.figure(1, figsize=(20,8))\n",
    "hist, xbins, ybins, _ = plt.hist2d(DataNG1['s2'], \n",
    "                                   DataNG1['cs2_top_nn_tf']/DataNG1['cs2_nn_tf'],\n",
    "                                   bins=(150,1000), \n",
    "                                   range=((0,3e3), (0.0,1.0)), \n",
    "                                   cmap=plt.cm.plasma, norm=matplotlib.colors.LogNorm(),\n",
    "                                   cmin = 1,alpha = 1)\n",
    "plt.colorbar(label='Number of events')\n",
    "plt.xlabel('s2')\n",
    "plt.ylabel('cs2 AFT')"
   ]
  },
  {
   "cell_type": "markdown",
   "metadata": {},
   "source": [
    "### That fucking map"
   ]
  },
  {
   "cell_type": "code",
   "execution_count": 31,
   "metadata": {
    "collapsed": false
   },
   "outputs": [],
   "source": [
    "from hax.corrections_handler import CorrectionsHandler\n",
    "\n",
    "# correct S2 using preliminary S2 correction map\n",
    "s2_xy_correction_top_sr2 = []\n",
    "s2_xy_correction_bottom_sr2 = []\n",
    "\n",
    "corr_handler = CorrectionsHandler()\n",
    "\n",
    "for row in DataNG4.itertuples():\n",
    "    pos_obs = [row.x_observed_nn_tf, row.y_observed_nn_tf]\n",
    "    s2_xy_correction_top_sr2.append(1.0 / corr_handler.get_correction_from_map('s2_xy_map', row.run_number, pos_obs,\n",
    "                                                                               map_name='map_top'))\n",
    "    s2_xy_correction_bottom_sr2.append(1.0 / corr_handler.get_correction_from_map('s2_xy_map', row.run_number, pos_obs,\n",
    "                                                                                  map_name='map_bottom'))"
   ]
  },
  {
   "cell_type": "code",
   "execution_count": 32,
   "metadata": {
    "collapsed": false
   },
   "outputs": [],
   "source": [
    "DataNG4 = DataNG4.assign(s2_xy_correction_top_sr2=s2_xy_correction_top_sr2)\n",
    "DataNG4 = DataNG4.assign(s2_xy_correction_bottom_sr2=s2_xy_correction_bottom_sr2)\n",
    "\n",
    "DataNG4 = DataNG4.assign(cs2_top_sr2=DataNG4.cs2_top / DataNG4.s2_xy_correction_top_nn_tf * DataNG4.s2_xy_correction_top_sr2)\n",
    "DataNG4 = DataNG4.assign(cs2_bottom_sr2=DataNG4.cs2_bottom / DataNG4.s2_xy_correction_bottom_nn_tf *\n",
    "                       DataNG4.s2_xy_correction_bottom_sr2)\n",
    "DataNG4 = DataNG4.assign(cxys2_sr2=(DataNG4.cs2_top_sr2 + DataNG4.cs2_bottom_sr2) / DataNG4.s2_lifetime_correction)\n",
    "DataNG4 = DataNG4.assign(cs2_aft_sr2=DataNG4.cs2_top_sr2 / (DataNG4.cs2_top_sr2 + DataNG4.cs2_bottom_sr2))"
   ]
  },
  {
   "cell_type": "raw",
   "metadata": {
    "collapsed": true
   },
   "source": [
    "DataNG4.to_pickle('/dali/lgrandi/giovo/minitrees/pax_v6.10.1/SR2_NG4_maps_z10_pax6.10.1.pkl')"
   ]
  },
  {
   "cell_type": "markdown",
   "metadata": {
    "collapsed": false
   },
   "source": [
    "print('###############\\n\\nNeutron Generator data\\n\\n###############')\n",
    "data_distribution(df = DataNG1, x = 'x_3d_nn_tf', y = 'y_3d_nn_tf',  z = 'z_3d_nn_tf', \n",
    "                  r = 'r_3d_nn_tf', bins = ([100,100]))"
   ]
  },
  {
   "cell_type": "markdown",
   "metadata": {
    "collapsed": false
   },
   "source": [
    "DataNG1['s2XYcorrection'] = DataNG1['s2']*DataNG1['s2_xy_correction_tot_nn_tf']\n",
    "Hist_s1_s2(df = DataNG1, x = 's1', y = 's2XYcorrection', bins_x = 1000, bins_y = 1000, \n",
    "           range_x = [0,1e5], range_y = [0,1e6], x_s = 0, x_e = 1e5, y_s = 0, y_e = 1e6)"
   ]
  },
  {
   "cell_type": "markdown",
   "metadata": {
    "collapsed": false
   },
   "source": [
    "fig = plt.figure(1, figsize=(20,8))\n",
    "plt.hist2d(DataNG1['s1'], DataNG1['s2']/100, \n",
    "           bins=(500,500), \n",
    "           range=((0,4e3), (0,2e3)), \n",
    "           cmap=plt.cm.jet, norm=matplotlib.colors.LogNorm(),\n",
    "           cmin = 1,alpha = 1)\n",
    "plt.colorbar(label='Number of events')\n",
    "plt.xlabel('s1')\n",
    "plt.ylabel('s2/100')"
   ]
  },
  {
   "cell_type": "markdown",
   "metadata": {
    "collapsed": false
   },
   "source": [
    "fig = plt.figure(1, figsize=(20,8))\n",
    "plt.hist2d(DataNG1['drift_time']/1e3, DataNG1['s2_range_50p_area']/1e3, \n",
    "           bins=(100,100), \n",
    "           range=((0,800), (0,30)), \n",
    "           cmap=plt.cm.jet, norm=matplotlib.colors.LogNorm(),\n",
    "           cmin = 1,alpha = 1)\n",
    "plt.colorbar(label='Number of events')\n",
    "plt.xlabel('drift_time [us]')\n",
    "plt.ylabel('s2_range_50p_area [us]')"
   ]
  },
  {
   "cell_type": "markdown",
   "metadata": {
    "collapsed": false
   },
   "source": [
    "plt.hist2d(DataNG1['s2XYcorrection'], DataNG1['s1'], \n",
    "           bins=(200,200), \n",
    "           range=((0,1000), (0,80000)), \n",
    "           cmap=plt.cm.jet, norm=matplotlib.colors.LogNorm(),\n",
    "           cmin = 1,alpha = 1)\n",
    "plt.colorbar(label='Number of events')\n",
    "plt.xlabel('s2XYcorrection')\n",
    "plt.ylabel('s1')"
   ]
  }
 ],
 "metadata": {
  "kernelspec": {
   "display_name": "Python 3",
   "language": "python",
   "name": "python3"
  },
  "language_info": {
   "codemirror_mode": {
    "name": "ipython",
    "version": 3
   },
   "file_extension": ".py",
   "mimetype": "text/x-python",
   "name": "python",
   "nbconvert_exporter": "python",
   "pygments_lexer": "ipython3",
   "version": "3.4.4"
  }
 },
 "nbformat": 4,
 "nbformat_minor": 2
}
