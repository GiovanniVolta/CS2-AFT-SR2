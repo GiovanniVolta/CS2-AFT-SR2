{
 "cells": [
  {
   "cell_type": "code",
   "execution_count": null,
   "metadata": {
    "collapsed": false
   },
   "outputs": [
    {
     "name": "stdout",
     "output_type": "stream",
     "text": [
      "Initialization done, Notebook was last run on: 05/05/2019\n"
     ]
    }
   ],
   "source": [
    "%run '/home/gvolta/Desktop/Function/Useful/Def.ipynb'"
   ]
  },
  {
   "cell_type": "code",
   "execution_count": null,
   "metadata": {
    "collapsed": false
   },
   "outputs": [],
   "source": [
    "import lax \n",
    "from lax.lichens import sciencerun1\n",
    "from lax.lichens import sciencerun0\n",
    "\n",
    "from pax import units, configuration\n",
    "pax_config = configuration.load_configuration('XENON1T')['DEFAULT']\n",
    "tpc_height = pax_config['tpc_length']\n",
    "tpc_radius = pax_config['tpc_radius']\n",
    "\n",
    "import hax\n",
    "hax.init(experiment='XENON1T',\n",
    "         pax_version_policy = 'v6.10.1',\n",
    "         main_data_paths= ['/dali/lgrandi/xenon1t/processed/pax_v6.10.1'], \n",
    "         minitree_paths = ['/dali/lgrandi/giovo/minitrees/pax_v6.10.1',\n",
    "                           '/dali/lgrandi/xenon1t/minitrees/pax_v6.10.1'],\n",
    "         make_minitrees = False)\n",
    "\n",
    "%matplotlib inline"
   ]
  },
  {
   "cell_type": "markdown",
   "metadata": {},
   "source": [
    "# Reading of data"
   ]
  },
  {
   "cell_type": "code",
   "execution_count": 3,
   "metadata": {
    "collapsed": false
   },
   "outputs": [
    {
     "name": "stderr",
     "output_type": "stream",
     "text": [
      "/project/lgrandi/anaconda3/envs/pax_head/lib/python3.4/site-packages/hax-2.5.0-py3.4.egg/hax/minitrees.py:611: UserWarning: Pandas doesn't allow columns to be created via a new attribute name - see https://pandas.pydata.org/pandas-docs/stable/indexing.html#attribute-access\n",
      "  result.cut_history = store.get_storer('data').attrs.cut_history\n"
     ]
    }
   ],
   "source": [
    "path = '/dali/lgrandi/giovo/minitrees/pax_v6.10.1/'\n",
    "dataNG_pre18836_1 = hax.minitrees.load_cache_file(path + 'NG_pre18836_1_SR2.haxcache')\n",
    "dataNG_pre18836_2 = hax.minitrees.load_cache_file(path + 'NG_pre18836_2_SR2.haxcache')\n",
    "dataNG_post18836  = hax.minitrees.load_cache_file(path + 'NG_post18836_SR2.haxcache' )"
   ]
  },
  {
   "cell_type": "markdown",
   "metadata": {},
   "source": [
    "# DAQVeto and Flash"
   ]
  },
  {
   "cell_type": "code",
   "execution_count": 4,
   "metadata": {
    "collapsed": true
   },
   "outputs": [],
   "source": [
    "DAQVeto = sciencerun1.DAQVeto()\n",
    "CutFlash = sciencerun1.Flash()"
   ]
  },
  {
   "cell_type": "code",
   "execution_count": null,
   "metadata": {
    "collapsed": false
   },
   "outputs": [],
   "source": [
    "dataNG_pre18836_1_1 = dataNG_pre18836_1[:int(len(dataNG_pre18836_1)/3)]\n",
    "dataNG_pre18836_1_2 = dataNG_pre18836_1[int(len(dataNG_pre18836_1)/3):int(2*len(dataNG_pre18836_1)/3)]\n",
    "dataNG_pre18836_1_3 = dataNG_pre18836_1[int(2*len(dataNG_pre18836_1)/3):]\n",
    "print(len(dataNG_pre18836_1_1),len(dataNG_pre18836_1_2), len(dataNG_pre18836_1_3))"
   ]
  },
  {
   "cell_type": "code",
   "execution_count": null,
   "metadata": {
    "collapsed": false
   },
   "outputs": [],
   "source": [
    "dataNG_pre18836_1_1 = DAQandCUT(dataNG_pre18836_1_1)\n",
    "dataNG_pre18836_1_2 = DAQandCUT(dataNG_pre18836_1_2)\n",
    "dataNG_pre18836_1_3 = DAQandCUT(dataNG_pre18836_1_3)"
   ]
  },
  {
   "cell_type": "code",
   "execution_count": null,
   "metadata": {
    "collapsed": true
   },
   "outputs": [],
   "source": [
    "dataNG_pre18836_1_1 = FLASHandCUT(dataNG_pre18836_1_1)\n",
    "dataNG_pre18836_1_2 = FLASHandCUT(dataNG_pre18836_1_2)\n",
    "dataNG_pre18836_1_3 = FLASHandCUT(dataNG_pre18836_1_3)"
   ]
  },
  {
   "cell_type": "code",
   "execution_count": null,
   "metadata": {
    "collapsed": true
   },
   "outputs": [],
   "source": [
    "dataNG_pre18836_2_1 = dataNG_pre18836_2[:int(len(dataNG_pre18836_2)/3)]\n",
    "dataNG_pre18836_2_2 = dataNG_pre18836_2[int(len(dataNG_pre18836_2)/3):int(2*len(dataNG_pre18836_2)/3)]\n",
    "dataNG_pre18836_2_3 = dataNG_pre18836_2[int(2*len(dataNG_pre18836_2)/3):]\n",
    "print(len(dataNG_pre18836_2_1),len(dataNG_pre18836_2_2), len(dataNG_pre18836_2_3))"
   ]
  },
  {
   "cell_type": "code",
   "execution_count": null,
   "metadata": {
    "collapsed": true
   },
   "outputs": [],
   "source": [
    "dataNG_pre18836_2_1 = DAQandCUT(dataNG_pre18836_2_1)\n",
    "dataNG_pre18836_2_2 = DAQandCUT(dataNG_pre18836_2_2)\n",
    "dataNG_pre18836_2_3 = DAQandCUT(dataNG_pre18836_2_3)"
   ]
  },
  {
   "cell_type": "code",
   "execution_count": null,
   "metadata": {
    "collapsed": true
   },
   "outputs": [],
   "source": [
    "dataNG_pre18836_2_1 = FLASHandCUT(dataNG_pre18836_2_1)\n",
    "dataNG_pre18836_2_2 = FLASHandCUT(dataNG_pre18836_2_2)\n",
    "dataNG_pre18836_2_3 = FLASHandCUT(dataNG_pre18836_2_3)"
   ]
  },
  {
   "cell_type": "code",
   "execution_count": 5,
   "metadata": {
    "collapsed": false
   },
   "outputs": [
    {
     "name": "stdout",
     "output_type": "stream",
     "text": [
      "2680854 2680855 2680855\n"
     ]
    }
   ],
   "source": [
    "dataNG_post18836_1 = dataNG_post18836[:int(len(dataNG_post18836)/3)]\n",
    "dataNG_post18836_2 = dataNG_post18836[int(len(dataNG_post18836)/3):int(2*len(dataNG_post18836)/3)]\n",
    "dataNG_post18836_3 = dataNG_post18836[int(2*len(dataNG_post18836)/3):]\n",
    "print(len(dataNG_post18836_1),len(dataNG_post18836_2), len(dataNG_post18836_3))"
   ]
  },
  {
   "cell_type": "code",
   "execution_count": 6,
   "metadata": {
    "collapsed": false
   },
   "outputs": [
    {
     "name": "stderr",
     "output_type": "stream",
     "text": [
      "/project/lgrandi/anaconda3/envs/pax_head/lib/python3.4/site-packages/pandas/core/indexing.py:357: SettingWithCopyWarning: \n",
      "A value is trying to be set on a copy of a slice from a DataFrame.\n",
      "Try using .loc[row_indexer,col_indexer] = value instead\n",
      "\n",
      "See the caveats in the documentation: http://pandas.pydata.org/pandas-docs/stable/indexing.html#indexing-view-versus-copy\n",
      "  self.obj[key] = _infer_fill_value(value)\n",
      "/project/lgrandi/anaconda3/envs/pax_head/lib/python3.4/site-packages/pandas/core/indexing.py:537: SettingWithCopyWarning: \n",
      "A value is trying to be set on a copy of a slice from a DataFrame.\n",
      "Try using .loc[row_indexer,col_indexer] = value instead\n",
      "\n",
      "See the caveats in the documentation: http://pandas.pydata.org/pandas-docs/stable/indexing.html#indexing-view-versus-copy\n",
      "  self.obj[item] = s\n"
     ]
    },
    {
     "name": "stdout",
     "output_type": "stream",
     "text": [
      "Unnamed selection: 147446 rows removed (45.00% passed)\n"
     ]
    },
    {
     "name": "stderr",
     "output_type": "stream",
     "text": [
      "/project/lgrandi/anaconda3/envs/pax_head/lib/python3.4/site-packages/hax-2.5.0-py3.4.egg/hax/cuts.py:130: UserWarning: Pandas doesn't allow columns to be created via a new attribute name - see https://pandas.pydata.org/pandas-docs/stable/indexing.html#attribute-access\n",
      "  d.cut_history = prev_cuts + [passthrough_dict]\n"
     ]
    },
    {
     "name": "stdout",
     "output_type": "stream",
     "text": [
      "Unnamed selection: 150458 rows removed (43.88% passed)\n",
      "Unnamed selection: 151486 rows removed (43.49% passed)\n",
      "Unnamed selection: 150589 rows removed (43.83% passed)\n",
      "Unnamed selection: 150676 rows removed (43.80% passed)\n",
      "Unnamed selection: 150248 rows removed (43.96% passed)\n",
      "Unnamed selection: 150741 rows removed (43.77% passed)\n",
      "Unnamed selection: 150711 rows removed (43.78% passed)\n",
      "Unnamed selection: 165414 rows removed (38.30% passed)\n",
      "Unnamed selection: 185742 rows removed (30.72% passed)\n",
      "Unnamed selection: 186638 rows removed (30.38% passed)\n",
      "Unnamed selection: 187175 rows removed (30.18% passed)\n",
      "Unnamed selection: 187398 rows removed (30.10% passed)\n",
      "Unnamed selection: 186634 rows removed (30.38% passed)\n",
      "Unnamed selection: 187289 rows removed (30.14% passed)\n",
      "Unnamed selection: 187124 rows removed (30.20% passed)\n",
      "Unnamed selection: 133817 rows removed (50.08% passed)\n",
      "Unnamed selection: 2401 rows removed (99.10% passed)\n",
      "Unnamed selection: 2432 rows removed (99.09% passed)\n",
      "Unnamed selection: 2301 rows removed (99.14% passed)\n",
      "Unnamed selection: 2343 rows removed (99.13% passed)\n",
      "Unnamed selection: 2298 rows removed (99.14% passed)\n",
      "Unnamed selection: 2196 rows removed (99.18% passed)\n",
      "Unnamed selection: 2270 rows removed (99.15% passed)\n",
      "Unnamed selection: 2688 rows removed (99.00% passed)\n",
      "Unnamed selection: 2500 rows removed (99.07% passed)\n",
      "Unnamed selection: 2161 rows removed (99.19% passed)\n",
      "Unnamed selection: 2247 rows removed (99.16% passed)\n",
      "Unnamed selection: 2184 rows removed (99.19% passed)\n",
      "Unnamed selection: 2732 rows removed (98.98% passed)\n"
     ]
    }
   ],
   "source": [
    "dataNG_post18836_1 = DAQandCUT(dataNG_post18836_1)\n",
    "dataNG_post18836_2 = DAQandCUT(dataNG_post18836_2)\n",
    "dataNG_post18836_3 = DAQandCUT(dataNG_post18836_3)"
   ]
  },
  {
   "cell_type": "code",
   "execution_count": 7,
   "metadata": {
    "collapsed": false
   },
   "outputs": [
    {
     "name": "stderr",
     "output_type": "stream",
     "text": [
      "/project/lgrandi/anaconda3/envs/pax_head/lib/python3.4/site-packages/pandas/core/indexing.py:537: SettingWithCopyWarning: \n",
      "A value is trying to be set on a copy of a slice from a DataFrame.\n",
      "Try using .loc[row_indexer,col_indexer] = value instead\n",
      "\n",
      "See the caveats in the documentation: http://pandas.pydata.org/pandas-docs/stable/indexing.html#indexing-view-versus-copy\n",
      "  self.obj[item] = s\n"
     ]
    },
    {
     "name": "stdout",
     "output_type": "stream",
     "text": [
      "Unnamed selection: 0 rows removed (100.00% passed)\n"
     ]
    },
    {
     "name": "stderr",
     "output_type": "stream",
     "text": [
      "/project/lgrandi/anaconda3/envs/pax_head/lib/python3.4/site-packages/hax-2.5.0-py3.4.egg/hax/cuts.py:130: UserWarning: Pandas doesn't allow columns to be created via a new attribute name - see https://pandas.pydata.org/pandas-docs/stable/indexing.html#attribute-access\n",
      "  d.cut_history = prev_cuts + [passthrough_dict]\n"
     ]
    },
    {
     "name": "stdout",
     "output_type": "stream",
     "text": [
      "Unnamed selection: 0 rows removed (100.00% passed)\n",
      "Unnamed selection: 0 rows removed (100.00% passed)\n",
      "Unnamed selection: 0 rows removed (100.00% passed)\n",
      "Unnamed selection: 0 rows removed (100.00% passed)\n",
      "Unnamed selection: 0 rows removed (100.00% passed)\n",
      "Unnamed selection: 0 rows removed (100.00% passed)\n",
      "Unnamed selection: 0 rows removed (100.00% passed)\n",
      "Unnamed selection: 0 rows removed (100.00% passed)\n",
      "Unnamed selection: 0 rows removed (100.00% passed)\n",
      "Unnamed selection: 0 rows removed (100.00% passed)\n",
      "Unnamed selection: 0 rows removed (100.00% passed)\n",
      "Unnamed selection: 0 rows removed (100.00% passed)\n",
      "Unnamed selection: 0 rows removed (100.00% passed)\n",
      "Unnamed selection: 0 rows removed (100.00% passed)\n",
      "Unnamed selection: 0 rows removed (100.00% passed)\n",
      "Unnamed selection: 0 rows removed (100.00% passed)\n",
      "Unnamed selection: 0 rows removed (100.00% passed)\n",
      "Unnamed selection: 0 rows removed (100.00% passed)\n",
      "Unnamed selection: 0 rows removed (100.00% passed)\n",
      "Unnamed selection: 0 rows removed (100.00% passed)\n",
      "Unnamed selection: 0 rows removed (100.00% passed)\n",
      "Unnamed selection: 0 rows removed (100.00% passed)\n",
      "Unnamed selection: 0 rows removed (100.00% passed)\n",
      "Unnamed selection: 0 rows removed (100.00% passed)\n",
      "Unnamed selection: 0 rows removed (100.00% passed)\n",
      "Unnamed selection: 0 rows removed (100.00% passed)\n",
      "Unnamed selection: 0 rows removed (100.00% passed)\n",
      "Unnamed selection: 0 rows removed (100.00% passed)\n",
      "Unnamed selection: 0 rows removed (100.00% passed)\n"
     ]
    }
   ],
   "source": [
    "dataNG_post18836_1 = FLASHandCUT(dataNG_post18836_1)\n",
    "dataNG_post18836_2 = FLASHandCUT(dataNG_post18836_2)\n",
    "dataNG_post18836_3 = FLASHandCUT(dataNG_post18836_3)"
   ]
  },
  {
   "cell_type": "code",
   "execution_count": 8,
   "metadata": {
    "collapsed": true
   },
   "outputs": [],
   "source": [
    "dataNG_post18836_1.to_pickle('/dali/lgrandi/giovo/minitrees/pax_v6.10.1/SR2_dataNG_post18836_DAQandFlash_1_pax6.10.1.pkl')\n",
    "dataNG_post18836_2.to_pickle('/dali/lgrandi/giovo/minitrees/pax_v6.10.1/SR2_dataNG_post18836_DAQandFlash_2_pax6.10.1.pkl')\n",
    "dataNG_post18836_3.to_pickle('/dali/lgrandi/giovo/minitrees/pax_v6.10.1/SR2_dataNG_post18836_DAQandFlash_3_pax6.10.1.pkl')"
   ]
  },
  {
   "cell_type": "code",
   "execution_count": null,
   "metadata": {
    "collapsed": true
   },
   "outputs": [],
   "source": [
    "Data = [dataNG_post18836_1, dataNG_post18836_2, dataNG_post18836_3]\n",
    "Data_DAQ = pd.concat(Data, ignore_index=True)"
   ]
  }
 ],
 "metadata": {
  "kernelspec": {
   "display_name": "Python 3",
   "language": "python",
   "name": "python3"
  },
  "language_info": {
   "codemirror_mode": {
    "name": "ipython",
    "version": 3
   },
   "file_extension": ".py",
   "mimetype": "text/x-python",
   "name": "python",
   "nbconvert_exporter": "python",
   "pygments_lexer": "ipython3",
   "version": "3.4.4"
  }
 },
 "nbformat": 4,
 "nbformat_minor": 2
}
