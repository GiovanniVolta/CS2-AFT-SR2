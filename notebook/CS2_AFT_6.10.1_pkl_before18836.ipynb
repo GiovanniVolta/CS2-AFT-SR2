{
 "cells": [
  {
   "cell_type": "code",
   "execution_count": 1,
   "metadata": {
    "collapsed": false
   },
   "outputs": [
    {
     "name": "stdout",
     "output_type": "stream",
     "text": [
      "Initialization done, Notebook was last run on: 07/05/2019\n"
     ]
    }
   ],
   "source": [
    "%run '/home/gvolta/Desktop/Function/Useful/Def.ipynb'"
   ]
  },
  {
   "cell_type": "code",
   "execution_count": 2,
   "metadata": {
    "collapsed": false
   },
   "outputs": [],
   "source": [
    "import lax \n",
    "from lax.lichens import sciencerun1\n",
    "from lax.lichens import sciencerun0\n",
    "\n",
    "from pax import units, configuration\n",
    "pax_config = configuration.load_configuration('XENON1T')['DEFAULT']\n",
    "tpc_height = pax_config['tpc_length']\n",
    "tpc_radius = pax_config['tpc_radius']\n",
    "\n",
    "import hax\n",
    "hax.init(experiment='XENON1T',\n",
    "         pax_version_policy = 'v6.10.1',\n",
    "         main_data_paths= ['/dali/lgrandi/xenon1t/processed/pax_v6.10.1'], \n",
    "         minitree_paths = ['/dali/lgrandi/giovo/minitrees/pax_v6.10.1',\n",
    "                           '/dali/lgrandi/xenon1t/minitrees/pax_v6.10.1'],\n",
    "         make_minitrees = False)\n",
    "\n",
    "%matplotlib inline"
   ]
  },
  {
   "cell_type": "markdown",
   "metadata": {},
   "source": [
    "# Reading of data"
   ]
  },
  {
   "cell_type": "code",
   "execution_count": 3,
   "metadata": {
    "collapsed": false
   },
   "outputs": [
    {
     "name": "stderr",
     "output_type": "stream",
     "text": [
      "/project/lgrandi/anaconda3/envs/pax_head/lib/python3.4/site-packages/hax-2.5.0-py3.4.egg/hax/minitrees.py:611: UserWarning: Pandas doesn't allow columns to be created via a new attribute name - see https://pandas.pydata.org/pandas-docs/stable/indexing.html#attribute-access\n",
      "  result.cut_history = store.get_storer('data').attrs.cut_history\n"
     ]
    }
   ],
   "source": [
    "DataNG1 = hax.minitrees.load_cache_file('/dali/lgrandi/giovo/minitrees/pax_v6.10.1/NG1_SR2.haxcache')\n",
    "DataNG2 = hax.minitrees.load_cache_file('/dali/lgrandi/giovo/minitrees/pax_v6.10.1/NG2_SR2.haxcache')\n",
    "DataNG3 = hax.minitrees.load_cache_file('/dali/lgrandi/giovo/minitrees/pax_v6.10.1/NG3_SR2.haxcache')\n",
    "DataNG4 = hax.minitrees.load_cache_file('/dali/lgrandi/giovo/minitrees/pax_v6.10.1/NG4_SR2.haxcache')"
   ]
  },
  {
   "cell_type": "code",
   "execution_count": null,
   "metadata": {
    "collapsed": false
   },
   "outputs": [],
   "source": [
    "for i in range(len(DataNG1.run_number)-1):\n",
    "    if DataNG1.run_number[i] != DataNG1.run_number[i+1]:\n",
    "        print(DataNG1.run_number[i])"
   ]
  },
  {
   "cell_type": "code",
   "execution_count": null,
   "metadata": {
    "collapsed": false
   },
   "outputs": [],
   "source": [
    "for i in range(len(DataNG2.run_number)-1):\n",
    "    if DataNG2.run_number[i] != DataNG2.run_number[i+1]:\n",
    "        print(DataNG2.run_number[i])"
   ]
  },
  {
   "cell_type": "code",
   "execution_count": null,
   "metadata": {
    "collapsed": true
   },
   "outputs": [],
   "source": [
    "for i in range(len(DataNG3.run_number)-1):\n",
    "    if DataNG3.run_number[i] != DataNG3.run_number[i+1]:\n",
    "        print(DataNG3.run_number[i])"
   ]
  },
  {
   "cell_type": "code",
   "execution_count": null,
   "metadata": {
    "collapsed": false
   },
   "outputs": [],
   "source": [
    "for i in range(len(DataNG4.run_number)-1):\n",
    "    if DataNG4.run_number[i] != DataNG4.run_number[i+1]:\n",
    "        print(DataNG4.run_number[i])"
   ]
  },
  {
   "cell_type": "markdown",
   "metadata": {},
   "source": [
    "# Pre-pre selection"
   ]
  },
  {
   "cell_type": "code",
   "execution_count": 4,
   "metadata": {
    "collapsed": false
   },
   "outputs": [],
   "source": [
    "DataNG1 = DataNG1[(DataNG1['cs1']>0)&(DataNG1['cs2']>0)]\n",
    "DataNG2 = DataNG2[(DataNG2['cs1']>0)&(DataNG2['cs2']>0)]\n",
    "DataNG3 = DataNG3[(DataNG3['cs1']>0)&(DataNG3['cs2']>0)]\n",
    "DataNG4 = DataNG4[(DataNG4['cs1']>0)&(DataNG4['cs2']>0)]"
   ]
  },
  {
   "cell_type": "code",
   "execution_count": 5,
   "metadata": {
    "collapsed": true
   },
   "outputs": [],
   "source": [
    "DataNG1 = DataNG1[(DataNG1['z_3d_nn_tf']<+5)&(DataNG1['z_3d_nn_tf']>-100)]\n",
    "DataNG2 = DataNG2[(DataNG2['z_3d_nn_tf']<+5)&(DataNG2['z_3d_nn_tf']>-100)]\n",
    "DataNG3 = DataNG3[(DataNG3['z_3d_nn_tf']<+5)&(DataNG3['z_3d_nn_tf']>-100)]\n",
    "DataNG4 = DataNG4[(DataNG4['z_3d_nn_tf']<+5)&(DataNG4['z_3d_nn_tf']>-100)]"
   ]
  },
  {
   "cell_type": "markdown",
   "metadata": {},
   "source": [
    "# DAQVeto and Flash"
   ]
  },
  {
   "cell_type": "code",
   "execution_count": 6,
   "metadata": {
    "collapsed": true
   },
   "outputs": [],
   "source": [
    "DAQVeto = sciencerun1.DAQVeto()\n",
    "CutFlash = sciencerun1.Flash()"
   ]
  },
  {
   "cell_type": "code",
   "execution_count": null,
   "metadata": {
    "collapsed": false
   },
   "outputs": [
    {
     "name": "stderr",
     "output_type": "stream",
     "text": [
      "/project/lgrandi/anaconda3/envs/pax_head/lib/python3.4/site-packages/pandas/core/indexing.py:357: SettingWithCopyWarning: \n",
      "A value is trying to be set on a copy of a slice from a DataFrame.\n",
      "Try using .loc[row_indexer,col_indexer] = value instead\n",
      "\n",
      "See the caveats in the documentation: http://pandas.pydata.org/pandas-docs/stable/indexing.html#indexing-view-versus-copy\n",
      "  self.obj[key] = _infer_fill_value(value)\n",
      "/project/lgrandi/anaconda3/envs/pax_head/lib/python3.4/site-packages/pandas/core/indexing.py:537: SettingWithCopyWarning: \n",
      "A value is trying to be set on a copy of a slice from a DataFrame.\n",
      "Try using .loc[row_indexer,col_indexer] = value instead\n",
      "\n",
      "See the caveats in the documentation: http://pandas.pydata.org/pandas-docs/stable/indexing.html#indexing-view-versus-copy\n",
      "  self.obj[item] = s\n"
     ]
    },
    {
     "name": "stdout",
     "output_type": "stream",
     "text": [
      "Unnamed selection: 179990 rows removed (75.76% passed)\n"
     ]
    },
    {
     "name": "stderr",
     "output_type": "stream",
     "text": [
      "/project/lgrandi/anaconda3/envs/pax_head/lib/python3.4/site-packages/hax-2.5.0-py3.4.egg/hax/cuts.py:130: UserWarning: Pandas doesn't allow columns to be created via a new attribute name - see https://pandas.pydata.org/pandas-docs/stable/indexing.html#attribute-access\n",
      "  d.cut_history = prev_cuts + [passthrough_dict]\n"
     ]
    },
    {
     "name": "stdout",
     "output_type": "stream",
     "text": [
      "Unnamed selection: 140085 rows removed (81.14% passed)\n",
      "Unnamed selection: 131289 rows removed (82.32% passed)\n",
      "Unnamed selection: 129317 rows removed (82.59% passed)\n",
      "Unnamed selection: 125277 rows removed (83.13% passed)\n",
      "Unnamed selection: 128867 rows removed (82.65% passed)\n",
      "Unnamed selection: 131308 rows removed (82.32% passed)\n",
      "Unnamed selection: 188899 rows removed (74.56% passed)\n",
      "Unnamed selection: 212258 rows removed (71.42% passed)\n"
     ]
    }
   ],
   "source": [
    "DataNG1 = DAQandCUT(DataNG1)\n",
    "DataNG2 = DAQandCUT(DataNG2)\n",
    "DataNG3 = DAQandCUT(DataNG3)\n",
    "DataNG4 = DAQandCUT(DataNG4)"
   ]
  },
  {
   "cell_type": "code",
   "execution_count": null,
   "metadata": {
    "collapsed": false
   },
   "outputs": [],
   "source": [
    "DataNG1 = FLASHandCUT(DataNG1)\n",
    "DataNG2 = FLASHandCUT(DataNG2)\n",
    "DataNG3 = FLASHandCUT(DataNG3)\n",
    "DataNG4 = FLASHandCUT(DataNG4)"
   ]
  },
  {
   "cell_type": "markdown",
   "metadata": {},
   "source": [
    "# Radius"
   ]
  },
  {
   "cell_type": "code",
   "execution_count": null,
   "metadata": {
    "collapsed": true
   },
   "outputs": [],
   "source": [
    "DataNG1['Cut_r_3d_nn_tf'] = DataNG1['r_3d_nn_tf'] < 44\n",
    "DataNG2['Cut_r_3d_nn_tf'] = DataNG2['r_3d_nn_tf'] < 44\n",
    "DataNG3['Cut_r_3d_nn_tf'] = DataNG3['r_3d_nn_tf'] < 44\n",
    "DataNG4['Cut_r_3d_nn_tf'] = DataNG4['r_3d_nn_tf'] < 44"
   ]
  },
  {
   "cell_type": "markdown",
   "metadata": {},
   "source": [
    "# Height"
   ]
  },
  {
   "cell_type": "code",
   "execution_count": null,
   "metadata": {
    "collapsed": true
   },
   "outputs": [],
   "source": [
    "DataNG1['Cut_z_3d_nn_tf'] = (DataNG1['z_3d_nn_tf'] > -90) & (DataNG1['z_3d_nn_tf'] < -10)\n",
    "DataNG2['Cut_z_3d_nn_tf'] = (DataNG2['z_3d_nn_tf'] > -90) & (DataNG2['z_3d_nn_tf'] < -10)\n",
    "DataNG3['Cut_z_3d_nn_tf'] = (DataNG3['z_3d_nn_tf'] > -90) & (DataNG3['z_3d_nn_tf'] < -10)\n",
    "DataNG4['Cut_z_3d_nn_tf'] = (DataNG4['z_3d_nn_tf'] > -90) & (DataNG4['z_3d_nn_tf'] < -10)"
   ]
  },
  {
   "cell_type": "markdown",
   "metadata": {},
   "source": [
    "# Saving date"
   ]
  },
  {
   "cell_type": "code",
   "execution_count": null,
   "metadata": {
    "collapsed": true
   },
   "outputs": [],
   "source": [
    "DataNG1.to_pickle('/dali/lgrandi/giovo/minitrees/pax_v6.10.1/SR2_NG1_DAQandFlash_z10_pax6.10.1.pkl')\n",
    "DataNG2.to_pickle('/dali/lgrandi/giovo/minitrees/pax_v6.10.1/SR2_NG2_DAQandFlash_z10_pax6.10.1.pkl')\n",
    "DataNG3.to_pickle('/dali/lgrandi/giovo/minitrees/pax_v6.10.1/SR2_NG3_DAQandFlash_z10_pax6.10.1.pkl')\n",
    "DataNG4.to_pickle('/dali/lgrandi/giovo/minitrees/pax_v6.10.1/SR2_NG4_DAQandFlash_z10_pax6.10.1.pkl')"
   ]
  },
  {
   "cell_type": "code",
   "execution_count": null,
   "metadata": {
    "collapsed": false
   },
   "outputs": [],
   "source": [
    "DataNG1"
   ]
  },
  {
   "cell_type": "code",
   "execution_count": null,
   "metadata": {
    "collapsed": true
   },
   "outputs": [],
   "source": []
  }
 ],
 "metadata": {
  "kernelspec": {
   "display_name": "Python 3",
   "language": "python",
   "name": "python3"
  },
  "language_info": {
   "codemirror_mode": {
    "name": "ipython",
    "version": 3
   },
   "file_extension": ".py",
   "mimetype": "text/x-python",
   "name": "python",
   "nbconvert_exporter": "python",
   "pygments_lexer": "ipython3",
   "version": "3.4.4"
  }
 },
 "nbformat": 4,
 "nbformat_minor": 2
}
