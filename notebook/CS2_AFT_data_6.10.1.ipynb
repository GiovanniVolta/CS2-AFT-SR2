{
 "cells": [
  {
   "cell_type": "code",
   "execution_count": 1,
   "metadata": {
    "collapsed": false
   },
   "outputs": [
    {
     "name": "stdout",
     "output_type": "stream",
     "text": [
      "Initialization done, Notebook was last run on: 04/05/2019\n"
     ]
    }
   ],
   "source": [
    "%run '/home/gvolta/Desktop/Function/Useful/Def.ipynb'"
   ]
  },
  {
   "cell_type": "code",
   "execution_count": 2,
   "metadata": {
    "collapsed": false
   },
   "outputs": [],
   "source": [
    "import hax\n",
    "hax.init(experiment='XENON1T',\n",
    "         pax_version_policy = '6.10.1',\n",
    "         main_data_paths= ['/dali/lgrandi/xenon1t/processed/pax_v6.10.1'], \n",
    "         minitree_paths = ['/dali/lgrandi/giovo/minitrees/pax_v6.10.1',\n",
    "                           '/dali/lgrandi/xenon1t/minitrees/pax_v6.10.1'\n",
    "                          ],\n",
    "         make_minitrees = True)"
   ]
  },
  {
   "cell_type": "markdown",
   "metadata": {},
   "source": [
    "### Selection of Dataset"
   ]
  },
  {
   "cell_type": "code",
   "execution_count": 3,
   "metadata": {
    "collapsed": true
   },
   "outputs": [],
   "source": [
    "bad_runs = []"
   ]
  },
  {
   "cell_type": "code",
   "execution_count": 4,
   "metadata": {
    "collapsed": false
   },
   "outputs": [
    {
     "name": "stdout",
     "output_type": "stream",
     "text": [
      "\n",
      "###############\n",
      "Number of runs: 4159\n",
      "Total livetime: 169.66 days\n",
      "Start:  2018-02-07 14:56:13\n",
      "End:  2018-12-03 08:41:57\n",
      "###############\n",
      "\n",
      "Ad hoc bad runs removal selection: 0 rows removed (100.00% passed)\n",
      "\n",
      "###############\n",
      "Number of runs: 473\n",
      "Total livetime: 19.74 days\n",
      "Start:  2018-02-21 19:30:10\n",
      "End:  2018-11-21 08:55:57\n",
      "###############\n",
      "\n",
      "\n",
      "###############\n",
      "Number of runs: 428\n",
      "Total livetime: 17.86 days\n",
      "Start:  2018-03-12 15:13:00\n",
      "End:  2018-11-21 08:55:57\n",
      "###############\n",
      "\n"
     ]
    },
    {
     "name": "stderr",
     "output_type": "stream",
     "text": [
      "/project/lgrandi/anaconda3/envs/pax_head/lib/python3.4/site-packages/ipykernel/__main__.py:14: SettingWithCopyWarning: \n",
      "A value is trying to be set on a copy of a slice from a DataFrame.\n",
      "Try using .loc[row_indexer,col_indexer] = value instead\n",
      "\n",
      "See the caveats in the documentation: http://pandas.pydata.org/pandas-docs/stable/indexing.html#indexing-view-versus-copy\n",
      "/project/lgrandi/anaconda3/envs/pax_head/lib/python3.4/site-packages/hax-2.5.0-py3.4.egg/hax/cuts.py:130: UserWarning: Pandas doesn't allow columns to be created via a new attribute name - see https://pandas.pydata.org/pandas-docs/stable/indexing.html#attribute-access\n",
      "  d.cut_history = prev_cuts + [passthrough_dict]\n",
      "/project/lgrandi/anaconda3/envs/pax_head/lib/python3.4/site-packages/ipykernel/__main__.py:25: UserWarning: Boolean Series key will be reindexed to match DataFrame index.\n"
     ]
    }
   ],
   "source": [
    "datasets = hax.runs.datasets\n",
    "datasets = hax.runs.tags_selection(datasets, include=['*sciencerun2*'],\n",
    "                                   exclude= ['bad','bad,waterfilling','waterfilling, bad','flash','messy','noise',\n",
    "                                   'afterpulse','hiccup','Flash','Hiccup', 'cathode_-5kV', 'cathode_-5kv'])\n",
    "datasets = datasets[(datasets.location != '')]\n",
    "print('\\n###############')\n",
    "print_info(datasets)\n",
    "print('###############\\n')\n",
    "\n",
    "datasets_select = datasets[((datasets['source__type']==('neutron_generator'))| \n",
    "                           (datasets['source__type']==('rn220'))|(datasets['source__type']==('Rn220')))]\n",
    "                           #|((datasets['number'] >= 6378)&(datasets['number'] <= 24518)))]\n",
    "\n",
    "datasets_select['duration'] = datasets_select['end'].sub(datasets_select['start'])\n",
    "datasets_select = datasets_select[datasets_select['duration'] > '00:50:00']\n",
    "datasets_select = hax.cuts.selection(datasets_select, np.invert(datasets_select['name'].isin(bad_runs)), \n",
    "                                     'Ad hoc bad runs removal')\n",
    "\n",
    "datasets_select['run_time_s'] = pd.to_timedelta((datasets_select.end) - pd.to_datetime(datasets_select.start)).dt.seconds\n",
    "\n",
    "print('\\n###############')\n",
    "print_info(datasets_select)\n",
    "print('###############\\n')\n",
    "\n",
    "datasets_select = datasets_select[(datasets['start'] > pd.to_datetime('20180301', format='%Y%m%d', errors='ignore'))]\n",
    "\n",
    "print('\\n###############')\n",
    "print_info(datasets_select)\n",
    "print('###############\\n')"
   ]
  },
  {
   "cell_type": "raw",
   "metadata": {},
   "source": [
    "for i in range(len(datasets_select)): print(datasets_select[['source__type', 'tags']].iloc[i])"
   ]
  },
  {
   "cell_type": "code",
   "execution_count": null,
   "metadata": {
    "collapsed": false
   },
   "outputs": [],
   "source": [
    "Rn = datasets_select[(datasets_select['source__type']==('rn220'))|(datasets_select['source__type']==('Rn220'))]\n",
    "print('Lenght Rn220: ', len(Rn))\n",
    "print_info(Rn)"
   ]
  },
  {
   "cell_type": "code",
   "execution_count": null,
   "metadata": {
    "collapsed": false
   },
   "outputs": [],
   "source": [
    "Rn = Rn.reset_index(drop=True)\n",
    "Rn1 = Rn[:48]\n",
    "print('###############')\n",
    "print('Rn1: ')\n",
    "print_info(Rn1)\n",
    "print('###############\\n')\n",
    "Rn2 = Rn[48:96]\n",
    "print('###############')\n",
    "print('Rn2: ')\n",
    "print_info(Rn2)\n",
    "print('###############\\n')\n",
    "Rn3 = Rn[96:]\n",
    "print('###############')\n",
    "print('Rn3: ')\n",
    "print_info(Rn3)\n",
    "print('###############\\n')"
   ]
  },
  {
   "cell_type": "code",
   "execution_count": null,
   "metadata": {
    "collapsed": false
   },
   "outputs": [],
   "source": [
    "dataRn1 = hax.minitrees.load(Rn1.name, \n",
    "                            ['Basics', 'Extended', 'Proximity', 'Corrections', 'Fundamentals', 'FlashIdentification'],  \n",
    "                            force_reload=False, num_workers=10)\n",
    "hax.minitrees.save_cache_file(dataRn1, '/dali/lgrandi/giovo/minitrees/pax_v6.10.1/Rn1_SR2.haxcache')"
   ]
  },
  {
   "cell_type": "code",
   "execution_count": null,
   "metadata": {
    "collapsed": true
   },
   "outputs": [],
   "source": [
    "dataRn2 = hax.minitrees.load(Rn2.name, \n",
    "                            ['Basics', 'Extended', 'Proximity', 'Corrections', 'Fundamentals', 'FlashIdentification'],  \n",
    "                            force_reload=False, num_workers=10)\n",
    "hax.minitrees.save_cache_file(dataRn2, '/dali/lgrandi/giovo/minitrees/pax_v6.10.1/Rn2_SR2.haxcache')"
   ]
  },
  {
   "cell_type": "code",
   "execution_count": null,
   "metadata": {
    "collapsed": true
   },
   "outputs": [],
   "source": [
    "dataRn3 = hax.minitrees.load(Rn3.name, \n",
    "                            ['Basics', 'Extended', 'Proximity', 'Corrections', 'Fundamentals', 'FlashIdentification'],  \n",
    "                            force_reload=False, num_workers=10)\n",
    "hax.minitrees.save_cache_file(dataRn3, '/dali/lgrandi/giovo/minitrees/pax_v6.10.1/Rn3_SR2.haxcache')"
   ]
  },
  {
   "cell_type": "code",
   "execution_count": 5,
   "metadata": {
    "collapsed": false
   },
   "outputs": [
    {
     "name": "stdout",
     "output_type": "stream",
     "text": [
      "Lenght neutron generator:  326\n",
      "\n",
      "###############\n",
      "Number of runs: 326\n",
      "Total livetime: 13.61 days\n",
      "Start:  2018-03-12 15:13:00\n",
      "End:  2018-11-21 08:55:57\n",
      "###############\n",
      "\n"
     ]
    }
   ],
   "source": [
    "NG = datasets_select[datasets_select['source__type'] == 'neutron_generator']\n",
    "print('Lenght neutron generator: ', len(NG))\n",
    "print('\\n###############')\n",
    "print_info(NG)\n",
    "print('###############\\n')"
   ]
  },
  {
   "cell_type": "code",
   "execution_count": 6,
   "metadata": {
    "collapsed": false
   },
   "outputs": [
    {
     "name": "stdout",
     "output_type": "stream",
     "text": [
      "\n",
      "###############\n",
      "Number of runs: 226\n",
      "Total livetime: 9.43 days\n",
      "Start:  2018-03-12 15:13:00\n",
      "End:  2018-03-31 12:35:22\n",
      "###############\n",
      "\n",
      "\n",
      "###############\n",
      "Number of runs: 100\n",
      "Total livetime: 4.18 days\n",
      "Start:  2018-07-13 09:10:23\n",
      "End:  2018-11-21 08:55:57\n",
      "###############\n",
      "\n"
     ]
    }
   ],
   "source": [
    "NG_pre18836 = NG[NG['number'] < 18836]\n",
    "NG_post18836 = NG[NG['number'] >= 18836]\n",
    "print('\\n###############')\n",
    "print_info(NG_pre18836)\n",
    "print('###############\\n')\n",
    "print('\\n###############')\n",
    "print_info(NG_post18836)\n",
    "print('###############\\n')"
   ]
  },
  {
   "cell_type": "code",
   "execution_count": null,
   "metadata": {
    "collapsed": false
   },
   "outputs": [],
   "source": [
    "NG_post18836"
   ]
  },
  {
   "cell_type": "code",
   "execution_count": null,
   "metadata": {
    "collapsed": false
   },
   "outputs": [],
   "source": [
    "NG_pre18836"
   ]
  },
  {
   "cell_type": "code",
   "execution_count": null,
   "metadata": {
    "collapsed": false
   },
   "outputs": [],
   "source": [
    "dataNG_post18836 = hax.minitrees.load(NG_post18836.name, \n",
    "                            ['Basics', 'Extended', 'Proximity', 'Corrections', 'Fundamentals', 'FlashIdentification'],\n",
    "                            force_reload=False, num_workers=10,\n",
    "                            preselection = ['cs1>0','cs2>0','z_3d_nn_tf>-100','z_3d_nn_tf<+5'])\n",
    "hax.minitrees.save_cache_file(dataNG_post18836, '/dali/lgrandi/giovo/minitrees/pax_v6.10.1/NG_post18836_SR2.haxcache')"
   ]
  },
  {
   "cell_type": "code",
   "execution_count": 7,
   "metadata": {
    "collapsed": false
   },
   "outputs": [
    {
     "name": "stdout",
     "output_type": "stream",
     "text": [
      "\n",
      "###############\n",
      "Number of runs: 113\n",
      "Total livetime: 4.71 days\n",
      "Start:  2018-03-12 15:13:00\n",
      "End:  2018-03-25 20:42:40\n",
      "_sciencerun2_candidate,_sciencerun2_preliminary pos1BC,_sciencerun2_candidate,_sciencerun2_preliminary\n",
      "###############\n",
      "\n",
      "\n",
      "###############\n",
      "Number of runs: 113\n",
      "Total livetime: 4.71 days\n",
      "Start:  2018-03-25 20:43:00\n",
      "End:  2018-03-31 12:35:22\n",
      "pos1BC,_sciencerun2_candidate,_sciencerun2_preliminary pos3M,_sciencerun2_candidate,_sciencerun2_preliminary\n",
      "###############\n",
      "\n"
     ]
    }
   ],
   "source": [
    "NG_pre18836 = NG_pre18836.reset_index(drop=True)\n",
    "NG_pre18836_1 = NG_pre18836[:113]\n",
    "print('\\n###############')\n",
    "print_info(NG_pre18836_1)\n",
    "print(NG_pre18836_1.tags.iloc[1], NG_pre18836_1.tags.iloc[-1])\n",
    "print('###############\\n')\n",
    "NG_pre18836_2 = NG_pre18836[113:]\n",
    "print('\\n###############')\n",
    "print_info(NG_pre18836_2)\n",
    "print(NG_pre18836_2.tags.iloc[1], NG_pre18836_2.tags.iloc[-1])\n",
    "print('###############\\n')"
   ]
  },
  {
   "cell_type": "code",
   "execution_count": null,
   "metadata": {
    "collapsed": false
   },
   "outputs": [
    {
     "name": "stderr",
     "output_type": "stream",
     "text": [
      "/project/lgrandi/anaconda3/envs/pax_head/lib/python3.4/site-packages/hax-2.5.0-py3.4.egg/hax/cuts.py:130: UserWarning: Pandas doesn't allow columns to be created via a new attribute name - see https://pandas.pydata.org/pandas-docs/stable/indexing.html#attribute-access\n",
      "  d.cut_history = prev_cuts + [passthrough_dict]\n"
     ]
    },
    {
     "name": "stdout",
     "output_type": "stream",
     "text": [
      "cs1>0 selection: 817756 rows removed (91.50% passed)\n"
     ]
    },
    {
     "name": "stderr",
     "output_type": "stream",
     "text": [
      "/project/lgrandi/anaconda3/envs/pax_head/lib/python3.4/site-packages/hax-2.5.0-py3.4.egg/hax/cuts.py:58: UserWarning: Pandas doesn't allow columns to be created via a new attribute name - see https://pandas.pydata.org/pandas-docs/stable/indexing.html#attribute-access\n",
      "  d.cut_history = new_history\n"
     ]
    }
   ],
   "source": [
    "dataNG_pre18836_1 = hax.minitrees.load(NG_pre18836_1.name, \n",
    "                            ['Basics', 'Extended', 'Proximity', 'Corrections', 'Fundamentals', 'FlashIdentification'],\n",
    "                            force_reload=False, num_workers=10,\n",
    "                            preselection = ['cs1>0','cs2>0','z_3d_nn_tf>-100','z_3d_nn_tf<+5'])\n",
    "hax.minitrees.save_cache_file(dataNG_pre18836_1, '/dali/lgrandi/giovo/minitrees/pax_v6.10.1/NG_pre18836_1_SR2.haxcache')"
   ]
  },
  {
   "cell_type": "code",
   "execution_count": null,
   "metadata": {
    "collapsed": false
   },
   "outputs": [],
   "source": [
    "dataNG_pre18836_2 = hax.minitrees.load(NG_pre18836_2.name, \n",
    "                            ['Basics', 'Extended', 'Proximity', 'Corrections', 'Fundamentals', 'FlashIdentification'],\n",
    "                            force_reload=False, num_workers=10,\n",
    "                            preselection = ['cs1>0','cs2>0','z_3d_nn_tf>-100','z_3d_nn_tf<+5'])\n",
    "hax.minitrees.save_cache_file(dataNG_pre18836_2, '/dali/lgrandi/giovo/minitrees/pax_v6.10.1/NG_pre18836_2_SR2.haxcache')"
   ]
  },
  {
   "cell_type": "code",
   "execution_count": null,
   "metadata": {
    "collapsed": false
   },
   "outputs": [],
   "source": [
    "NG = NG.reset_index(drop=True)\n",
    "NG1 = NG[:94]\n",
    "print('\\n###############')\n",
    "print_info(NG1)\n",
    "print(NG1.tags.iloc[1], NG1.tags.iloc[-1])\n",
    "print('###############\\n')\n",
    "NG2 = NG[94:188]\n",
    "print('\\n###############')\n",
    "print_info(NG2)\n",
    "print(NG2.tags.iloc[1], NG2.tags.iloc[-1])\n",
    "print('###############\\n')\n",
    "NG3 = NG[188:282]\n",
    "print('\\n###############')\n",
    "print_info(NG3)\n",
    "print(NG3.tags.iloc[1], NG3.tags.iloc[-1])\n",
    "print('###############\\n')\n",
    "NG4 = NG[282:]\n",
    "print('\\n###############')\n",
    "print_info(NG4)\n",
    "print(NG4.tags.iloc[1], NG4.tags.iloc[-1])\n",
    "print('###############\\n')"
   ]
  },
  {
   "cell_type": "code",
   "execution_count": null,
   "metadata": {
    "collapsed": false
   },
   "outputs": [],
   "source": [
    "dataNG1 = hax.minitrees.load(NG1.name, \n",
    "                            ['Basics', 'Extended', 'Proximity', 'Corrections', 'Fundamentals', 'FlashIdentification'],\n",
    "                            force_reload=False, num_workers=10)\n",
    "hax.minitrees.save_cache_file(dataNG1, '/dali/lgrandi/giovo/minitrees/pax_v6.10.1/NG1_SR2.haxcache')"
   ]
  },
  {
   "cell_type": "code",
   "execution_count": null,
   "metadata": {
    "collapsed": false
   },
   "outputs": [],
   "source": [
    "dataNG2 = hax.minitrees.load(NG2.name, \n",
    "                            ['Basics', 'Extended', 'Proximity', 'Corrections', 'Fundamentals', 'FlashIdentification'],\n",
    "                            force_reload=False, num_workers=10)\n",
    "hax.minitrees.save_cache_file(dataNG2, '/dali/lgrandi/giovo/minitrees/pax_v6.10.1/NG2_SR2.haxcache')"
   ]
  },
  {
   "cell_type": "code",
   "execution_count": null,
   "metadata": {
    "collapsed": true
   },
   "outputs": [],
   "source": [
    "dataNG3 = hax.minitrees.load(NG3.name, \n",
    "                            ['Basics', 'Extended', 'Proximity', 'Corrections', 'Fundamentals', 'FlashIdentification'],\n",
    "                            force_reload=False, num_workers=10)\n",
    "hax.minitrees.save_cache_file(dataNG3, '/dali/lgrandi/giovo/minitrees/pax_v6.10.1/NG3_SR2.haxcache')"
   ]
  },
  {
   "cell_type": "code",
   "execution_count": null,
   "metadata": {
    "collapsed": false
   },
   "outputs": [],
   "source": [
    "dataNG4 = hax.minitrees.load(NG4.name, \n",
    "                            ['Basics', 'Extended', 'Proximity', 'Corrections', 'Fundamentals', 'FlashIdentification'],\n",
    "                            force_reload=False, num_workers=10)\n",
    "hax.minitrees.save_cache_file(dataNG4, '/dali/lgrandi/giovo/minitrees/pax_v6.10.1/NG4_SR2.haxcache')"
   ]
  },
  {
   "cell_type": "code",
   "execution_count": null,
   "metadata": {
    "collapsed": true
   },
   "outputs": [],
   "source": []
  }
 ],
 "metadata": {
  "kernelspec": {
   "display_name": "Python 3",
   "language": "python",
   "name": "python3"
  },
  "language_info": {
   "codemirror_mode": {
    "name": "ipython",
    "version": 3
   },
   "file_extension": ".py",
   "mimetype": "text/x-python",
   "name": "python",
   "nbconvert_exporter": "python",
   "pygments_lexer": "ipython3",
   "version": "3.6.8"
  }
 },
 "nbformat": 4,
 "nbformat_minor": 2
}
